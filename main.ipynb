{
 "cells": [
  {
   "cell_type": "code",
   "execution_count": null,
   "id": "acabc192",
   "metadata": {},
   "outputs": [],
   "source": [
    "import os\n",
    "import pandas as pd\n",
    "import numpy as np\n",
    "import matplotlib.pyplot as  plt\n",
    "import tensorflow as tf\n",
    "from tensorflow import keras\n",
    "from sklearn.metrics import confusion_matrix\n",
    "from sklearn.metrics import classification_report\n",
    "import seaborn as sns\n",
    "from tensorflow.keras.preprocessing.image import ImageDataGenerator\n",
    "from tensorflow.keras.optimizers import Adam\n",
    "from tensorflow.keras.layers import BatchNormalization\n",
    "from tensorflow.keras.layers import GlobalAveragePooling2D\n",
    "from tensorflow.keras.utils import Sequence\n",
    "from tensorflow.keras.losses import SparseCategoricalCrossentropy\n",
    "from tensorflow.keras.applications import MobileNetV2\n",
    "from tensorflow.keras.layers import Conv2D, MaxPooling2D, Flatten, Dense, Dropout, TimeDistributed, LSTM\n",
    "from tensorflow.keras.models import Model, Sequential\n",
    "from tensorflow.keras.optimizers import Adam, SGD\n",
    "from collections import Counter"
   ]
  },
  {
   "cell_type": "code",
   "execution_count": 1,
   "id": "3a45fd95",
   "metadata": {},
   "outputs": [
    {
     "name": "stdout",
     "output_type": "stream",
     "text": [
      "TF Version: 2.19.0\n",
      "GPU Available: []\n"
     ]
    }
   ],
   "source": [
    "import tensorflow as tf\n",
    "print(\"TF Version:\", tf.__version__)\n",
    "print(\"GPU Available:\", tf.config.list_physical_devices('GPU'))"
   ]
  },
  {
   "cell_type": "code",
   "execution_count": null,
   "id": "92f11282",
   "metadata": {},
   "outputs": [],
   "source": [
    "import splitfolders\n",
    "data_dir = \"C:\\\\Users\\\\pajen\\\\Downloads\\\\drowzee\\\\Driver Drowsiness Dataset (DDD)\"\n",
    "output_dir = \"C:\\\\Users\\\\pajen\\\\Downloads\\\\drowzee\\\\working\\\\splitted_Data\"\n",
    "splitfolders.ratio(data_dir, output=output_dir, seed=1337, ratio=(.8, 0.15, 0.05))"
   ]
  },
  {
   "cell_type": "code",
   "execution_count": null,
   "id": "c070763c",
   "metadata": {},
   "outputs": [],
   "source": [
    "train_dir = \"C:\\\\Users\\\\pajen\\\\Downloads\\\\drowzee\\\\working\\\\splitted_Data\\\\train\"\n",
    "test_dir = \"C:\\\\Users\\\\pajen\\\\Downloads\\\\drowzee\\\\working\\\\splitted_Data\\\\test\"\n",
    "val_dir = \"C:\\\\Users\\\\pajen\\\\Downloads\\\\drowzee\\\\working\\\\splitted_Data\\\\val\""
   ]
  },
  {
   "cell_type": "code",
   "execution_count": null,
   "id": "d01e0dd5",
   "metadata": {},
   "outputs": [],
   "source": [
    "train_datagen = ImageDataGenerator(rescale=1./255)\n",
    "test_datagen = ImageDataGenerator(rescale=1./255)\n",
    "val_datagen = ImageDataGenerator(rescale=1./255)"
   ]
  },
  {
   "cell_type": "code",
   "execution_count": null,
   "id": "63a64560",
   "metadata": {},
   "outputs": [],
   "source": [
    "train_batches = train_datagen.flow_from_directory(\n",
    "    train_dir,\n",
    "    target_size=(128, 128),\n",
    "    batch_size=16,\n",
    "    class_mode='binary',\n",
    "    shuffle=True\n",
    ")\n",
    "\n",
    "test_batches = test_datagen.flow_from_directory(\n",
    "    test_dir,\n",
    "    target_size=(128, 128),\n",
    "    batch_size=16,\n",
    "    class_mode='binary' ,\n",
    "    shuffle=True\n",
    ")\n",
    "\n",
    "val_batches = val_datagen.flow_from_directory(\n",
    "    val_dir,\n",
    "    target_size=(128, 128),\n",
    "    batch_size=16,\n",
    "    class_mode='binary',\n",
    "    shuffle=True\n",
    ")"
   ]
  },
  {
   "cell_type": "code",
   "execution_count": null,
   "id": "a90daf1c",
   "metadata": {},
   "outputs": [],
   "source": [
    "images, labels = next(train_batches)\n",
    "print(f\"Pixels of the first image after Normalization: \\n\\n{images[3]}\")\n",
    "plt.imshow(images[3])\n",
    "plt.show()"
   ]
  },
  {
   "cell_type": "code",
   "execution_count": null,
   "id": "c7365ddc",
   "metadata": {},
   "outputs": [],
   "source": [
    "fig, axes = plt.subplots(8, 4, figsize=(15, 30))\n",
    "class_indices = train_batches.class_indices\n",
    "\n",
    "for i in range(8):\n",
    "    images, labels = next(train_batches)\n",
    "    for j in range(4):\n",
    "        \n",
    "        ax = axes[i, j]\n",
    "        ax.imshow(images[j])\n",
    "        ax.axis('off')\n",
    "        label = int(labels[j])  \n",
    "        label_name = list(class_indices.keys())[list(class_indices.values()).index(label)]\n",
    "        ax.set_title(f'{label_name} ({label})')\n",
    "\n",
    "plt.tight_layout()\n",
    "plt.show()"
   ]
  },
  {
   "cell_type": "code",
   "execution_count": null,
   "id": "73762769",
   "metadata": {},
   "outputs": [],
   "source": [
    "image_size = (128, 128)\n",
    "sequence_length = 5\n",
    "\n",
    "model = Sequential([\n",
    "    TimeDistributed(Conv2D(8, (3,3), activation='relu', padding='same'), input_shape=(sequence_length, image_size[0], image_size[1], 3)),\n",
    "    TimeDistributed(BatchNormalization()),  \n",
    "    TimeDistributed(MaxPooling2D(pool_size=(2,2))),\n",
    "\n",
    "    TimeDistributed(Conv2D(16, (3,3), activation='relu', padding='same')),\n",
    "    TimeDistributed(BatchNormalization()),\n",
    "    TimeDistributed(MaxPooling2D(pool_size=(2,2))),\n",
    "\n",
    "    TimeDistributed(Conv2D(32, (3,3), activation='relu', padding='same')),\n",
    "    TimeDistributed(BatchNormalization()),\n",
    "    TimeDistributed(MaxPooling2D(pool_size=(2,2))),\n",
    "\n",
    "    TimeDistributed(GlobalAveragePooling2D()),  \n",
    "    LSTM(16, return_sequences=False),  \n",
    "    Dropout(0.3),\n",
    "\n",
    "    Dense(8, activation='relu'),  \n",
    "    Dropout(0.3),\n",
    "    Dense(1, activation='sigmoid')  \n",
    "])  \n",
    "\n",
    "model.compile(optimizer=tf.keras.optimizers.Adam(learning_rate=0.0001), loss='binary_crossentropy', metrics=['accuracy'])\n",
    "\n",
    "model.summary()"
   ]
  },
  {
   "cell_type": "code",
   "execution_count": null,
   "id": "f4f939c8",
   "metadata": {},
   "outputs": [],
   "source": [
    "class DataGenerator(Sequence):\n",
    "    def __init__(self, generator, sequence_length, batch_size):\n",
    "        self.generator = generator\n",
    "        self.sequence_length = sequence_length\n",
    "        self.batch_size = batch_size\n",
    "\n",
    "    def __len__(self):\n",
    "        return len(self.generator) // self.batch_size\n",
    "\n",
    "    def __getitem__(self, index):\n",
    "        X_seq, y_seq = [], []\n",
    "        images, labels = [], []\n",
    "        \n",
    "        for _ in range(self.batch_size):\n",
    "            batch_images, batch_labels = next(self.generator)\n",
    "            for img, label in zip(batch_images, batch_labels):\n",
    "                images.append(img)\n",
    "                labels.append(label)\n",
    "                if len(images) == self.sequence_length:\n",
    "                    X_seq.append(np.array(images))\n",
    "                    y_seq.append(labels[-1])\n",
    "                    images.pop(0)\n",
    "        \n",
    "        return np.array(X_seq), np.array(y_seq)"
   ]
  },
  {
   "cell_type": "code",
   "execution_count": null,
   "id": "f4809413",
   "metadata": {},
   "outputs": [],
   "source": [
    "train_seq = DataGenerator(train_batches, sequence_length=5, batch_size=32)\n",
    "val_seq = DataGenerator(val_batches, sequence_length=5, batch_size=32)"
   ]
  },
  {
   "cell_type": "code",
   "execution_count": null,
   "id": "f3f0047c",
   "metadata": {},
   "outputs": [],
   "source": [
    "history = model.fit(\n",
    "    train_seq,\n",
    "    validation_data=val_seq,\n",
    "    epochs=20\n",
    ")"
   ]
  }
 ],
 "metadata": {
  "kernelspec": {
   "display_name": "Python 3",
   "language": "python",
   "name": "python3"
  },
  "language_info": {
   "codemirror_mode": {
    "name": "ipython",
    "version": 3
   },
   "file_extension": ".py",
   "mimetype": "text/x-python",
   "name": "python",
   "nbconvert_exporter": "python",
   "pygments_lexer": "ipython3",
   "version": "3.12.10"
  }
 },
 "nbformat": 4,
 "nbformat_minor": 5
}
